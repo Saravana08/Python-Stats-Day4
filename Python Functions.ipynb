{
 "cells": [
  {
   "cell_type": "markdown",
   "metadata": {},
   "source": [
    "# Python Functions"
   ]
  },
  {
   "cell_type": "code",
   "execution_count": 24,
   "metadata": {},
   "outputs": [],
   "source": [
    "def greet(name):\n",
    "    \"\"\"This function greets to the person passed in as parameter\"\"\"\n",
    "    print(\"Hello, \" + name + \". Good morning!\")"
   ]
  },
  {
   "cell_type": "code",
   "execution_count": 20,
   "metadata": {},
   "outputs": [
    {
     "name": "stdout",
     "output_type": "stream",
     "text": [
      "Hello, saravana. Good morning!\n"
     ]
    }
   ],
   "source": [
    "greet('saravana')"
   ]
  },
  {
   "cell_type": "code",
   "execution_count": 25,
   "metadata": {},
   "outputs": [
    {
     "data": {
      "text/plain": [
       "'This function greets to the person passed in as parameter'"
      ]
     },
     "execution_count": 25,
     "metadata": {},
     "output_type": "execute_result"
    }
   ],
   "source": [
    "greet.__doc__"
   ]
  },
  {
   "cell_type": "code",
   "execution_count": 26,
   "metadata": {},
   "outputs": [
    {
     "name": "stdout",
     "output_type": "stream",
     "text": [
      "2\n",
      "4\n"
     ]
    }
   ],
   "source": [
    "def absolute_value(num):\n",
    "\t\"\"\"This function returns the absolute\n",
    "\tvalue of the entered number\"\"\"\n",
    "\n",
    "\tif num >= 0:\n",
    "\t\treturn num\n",
    "\telse:\n",
    "\t\treturn -num\n",
    "\n",
    "# Output: 2\n",
    "print(absolute_value(2))\n",
    "\n",
    "# Output: 4\n",
    "print(absolute_value(-4))"
   ]
  },
  {
   "cell_type": "code",
   "execution_count": 27,
   "metadata": {},
   "outputs": [
    {
     "name": "stdout",
     "output_type": "stream",
     "text": [
      "The sum is 11\n"
     ]
    }
   ],
   "source": [
    "def add_numbers(x,y):\n",
    "   sum = x + y\n",
    "   return sum\n",
    "\n",
    "num1 = 5\n",
    "num2 = 6\n",
    "\n",
    "print(\"The sum is\", add_numbers(num1, num2))"
   ]
  },
  {
   "cell_type": "code",
   "execution_count": 29,
   "metadata": {},
   "outputs": [
    {
     "data": {
      "text/plain": [
       "17"
      ]
     },
     "execution_count": 29,
     "metadata": {},
     "output_type": "execute_result"
    }
   ],
   "source": [
    "def f(x):\n",
    "        return x**2 + 1\n",
    "\n",
    "f(4) "
   ]
  },
  {
   "cell_type": "code",
   "execution_count": 30,
   "metadata": {},
   "outputs": [
    {
     "data": {
      "text/plain": [
       "'walking'"
      ]
     },
     "execution_count": 30,
     "metadata": {},
     "output_type": "execute_result"
    }
   ],
   "source": [
    "def get_ing(wd):\n",
    "        return wd + 'ing'\n",
    "\n",
    "get_ing('walk')"
   ]
  },
  {
   "cell_type": "code",
   "execution_count": 31,
   "metadata": {},
   "outputs": [
    {
     "data": {
      "text/plain": [
       "True"
      ]
     },
     "execution_count": 31,
     "metadata": {},
     "output_type": "execute_result"
    }
   ],
   "source": [
    "def same_initial(wd1, wd2):\n",
    "        \"\"\"Tests if two words start with the same character,  \n",
    "        and returns True/False. Case distinction is ignored.\"\"\" \n",
    "        if wd1[0].lower() == wd2[0].lower(): \n",
    "            return True\n",
    "        else: \n",
    "            return False\n",
    "\n",
    "same_initial('apple', 'orange')\n",
    "same_initial('Annie', 'apple')"
   ]
  },
  {
   "cell_type": "code",
   "execution_count": 33,
   "metadata": {},
   "outputs": [
    {
     "name": "stdout",
     "output_type": "stream",
     "text": [
      "Help on function same_initial in module __main__:\n",
      "\n",
      "same_initial(wd1, wd2)\n",
      "    Tests if two words start with the same character,  \n",
      "    and returns True/False. Case distinction is ignored.\n",
      "\n"
     ]
    }
   ],
   "source": [
    "help(same_initial)"
   ]
  },
  {
   "cell_type": "code",
   "execution_count": 34,
   "metadata": {},
   "outputs": [
    {
     "data": {
      "text/plain": [
       "['c', 'i', 'i', 'i', 'n', 's', 's']"
      ]
     },
     "execution_count": 34,
     "metadata": {},
     "output_type": "execute_result"
    }
   ],
   "source": [
    "def in_both(wd1, wd2):\n",
    "        \"Takes two strings, returns a sorted list of common characters\" \n",
    "        common = []\n",
    "        for c in wd1:\n",
    "            if c in wd2:\n",
    "                common.append(c)\t\t\t\n",
    "        return sorted(common)\n",
    "\n",
    "in_both('pear', 'apple')\n",
    "in_both('linguistics', 'economics')"
   ]
  },
  {
   "cell_type": "code",
   "execution_count": 35,
   "metadata": {},
   "outputs": [
    {
     "name": "stdout",
     "output_type": "stream",
     "text": [
      "Hello, Akbar!\n",
      "What a lovely day.\n"
     ]
    }
   ],
   "source": [
    "def sayhello(who):\n",
    "        print('Hello,', who + '!')\n",
    "        print('What a lovely day.')\n",
    "\n",
    "sayhello('Akbar')"
   ]
  },
  {
   "cell_type": "code",
   "execution_count": 36,
   "metadata": {},
   "outputs": [],
   "source": [
    "x = range(-5, 5)\n",
    "new_list = []\n",
    "\n",
    "for num in x:\n",
    "    if num < 0:\n",
    "        new_list.append(num)\n",
    "        \n",
    "x = range(-5, 5)\n",
    "all_less_than_zero = list(filter(lambda num: num < 0, x))"
   ]
  },
  {
   "cell_type": "code",
   "execution_count": 2,
   "metadata": {},
   "outputs": [
    {
     "name": "stdout",
     "output_type": "stream",
     "text": [
      "even\n",
      "odd\n"
     ]
    }
   ],
   "source": [
    "# A simple Python function to check \n",
    "# whether x is even or odd \n",
    "def evenOdd( x ): \n",
    "    if (x % 2 == 0): \n",
    "        print (\"even\")\n",
    "    else: \n",
    "        print(\"odd\")\n",
    "  \n",
    "# Driver code \n",
    "evenOdd(2) \n",
    "evenOdd(3) "
   ]
  },
  {
   "cell_type": "code",
   "execution_count": 3,
   "metadata": {},
   "outputs": [
    {
     "name": "stdout",
     "output_type": "stream",
     "text": [
      "2\n",
      "3\n"
     ]
    }
   ],
   "source": [
    "def swap(x, y): \n",
    "    temp = x; \n",
    "    x = y; \n",
    "    y = temp; \n",
    "  \n",
    "# Driver code \n",
    "x = 2\n",
    "y = 3\n",
    "swap(x, y) \n",
    "print(x) \n",
    "print(y)"
   ]
  },
  {
   "cell_type": "code",
   "execution_count": 4,
   "metadata": {},
   "outputs": [
    {
     "name": "stdout",
     "output_type": "stream",
     "text": [
      "343\n"
     ]
    }
   ],
   "source": [
    "# Python code to illustrate cube of a number   \n",
    "# using labmda function  \n",
    "    \n",
    "cube = lambda x: x*x*x  \n",
    "print(cube(7))  "
   ]
  },
  {
   "cell_type": "code",
   "execution_count": 5,
   "metadata": {},
   "outputs": [
    {
     "name": "stdout",
     "output_type": "stream",
     "text": [
      "The gamma() of 4 is : 6.0\n"
     ]
    }
   ],
   "source": [
    "# Python code to demonstrate the working of \n",
    "# gamma() \n",
    "   \n",
    "# importing \"math\" for mathematical operations \n",
    "import math \n",
    "  \n",
    "a = 4\n",
    "  \n",
    "# returning the gamma() of 4 \n",
    "print (\"The gamma() of 4 is : \", end=\"\") \n",
    "print (math.gamma(a)) "
   ]
  },
  {
   "cell_type": "code",
   "execution_count": 7,
   "metadata": {},
   "outputs": [
    {
     "name": "stdout",
     "output_type": "stream",
     "text": [
      "The value of const. pi is : 3.141592653589793\n"
     ]
    }
   ],
   "source": [
    "# Python code to demonstrate the working of \n",
    "# const. pi and e \n",
    "   \n",
    "# importing \"math\" for mathematical operations \n",
    "import math \n",
    "  \n",
    "# returning the value of const. pi \n",
    "print (\"The value of const. pi is : \", end=\"\") \n",
    "print (math.pi) \n",
    "  \n"
   ]
  },
  {
   "cell_type": "code",
   "execution_count": 11,
   "metadata": {},
   "outputs": [
    {
     "name": "stdout",
     "output_type": "stream",
     "text": [
      "Natural logarithm of 14 is : 2.6390573296152584\n",
      "Logarithm base 5 of 14 is : 1.6397385131955606\n"
     ]
    }
   ],
   "source": [
    "import math \n",
    "  \n",
    "# Printing the log base e of 14 \n",
    "print (\"Natural logarithm of 14 is : \", end=\"\") \n",
    "print (math.log(14)) \n",
    "  \n",
    "# Printing the log base 5 of 14 \n",
    "print (\"Logarithm base 5 of 14 is : \", end=\"\") \n",
    "print (math.log(14,5)) "
   ]
  },
  {
   "cell_type": "code",
   "execution_count": 13,
   "metadata": {},
   "outputs": [
    {
     "name": "stdout",
     "output_type": "stream",
     "text": [
      "HELLO\n",
      "HELLO\n"
     ]
    }
   ],
   "source": [
    "# Python program to illustrate functions \n",
    "# can be treated as objects \n",
    "def shout(text): \n",
    "    return text.upper() \n",
    "  \n",
    "print(shout('Hello')) \n",
    "  \n",
    "yell = shout \n",
    "  \n",
    "print(yell('Hello'))"
   ]
  },
  {
   "cell_type": "code",
   "execution_count": 15,
   "metadata": {},
   "outputs": [
    {
     "name": "stdout",
     "output_type": "stream",
     "text": [
      "HI, I AM CREATED BY A FUNCTION PASSED AS AN ARGUMENT.\n",
      "hi, i am created by a function passed as an argument.\n"
     ]
    }
   ],
   "source": [
    "def shout(text): \n",
    "    return text.upper() \n",
    "  \n",
    "def whisper(text): \n",
    "    return text.lower() \n",
    "  \n",
    "def greet(func): \n",
    "    # storing the function in a variable \n",
    "    greeting = func(\"Hi, I am created by a function passed as an argument.\") \n",
    "    print(greeting)  \n",
    "  \n",
    "greet(shout) \n",
    "greet(whisper) "
   ]
  },
  {
   "cell_type": "code",
   "execution_count": 17,
   "metadata": {},
   "outputs": [
    {
     "name": "stdout",
     "output_type": "stream",
     "text": [
      "25\n"
     ]
    }
   ],
   "source": [
    "def create_adder(x): \n",
    "    def adder(y): \n",
    "        return x+y \n",
    "  \n",
    "    return adder \n",
    "  \n",
    "add_15 = create_adder(15) \n",
    "  \n",
    "print(add_15(10))"
   ]
  }
 ],
 "metadata": {
  "kernelspec": {
   "display_name": "Python 3",
   "language": "python",
   "name": "python3"
  },
  "language_info": {
   "codemirror_mode": {
    "name": "ipython",
    "version": 3
   },
   "file_extension": ".py",
   "mimetype": "text/x-python",
   "name": "python",
   "nbconvert_exporter": "python",
   "pygments_lexer": "ipython3",
   "version": "3.6.4"
  }
 },
 "nbformat": 4,
 "nbformat_minor": 2
}
